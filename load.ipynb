{
 "cells": [
  {
   "cell_type": "code",
   "execution_count": null,
   "metadata": {},
   "outputs": [],
   "source": [
    "# Setup Cell - Run this after each kernel restart\n",
    "from dotenv import load_dotenv\n",
    "import os\n",
    "import json\n",
    "from openai import OpenAI\n",
    "from pinecone import Pinecone, ServerlessSpec\n",
    "\n",
    "# Load environment variables\n",
    "load_dotenv('.env.local')  # Specify the file name if it's not just .env\n",
    "\n",
    "# Function to load JSON data\n",
    "def load_json_data(file_path=\"reviews.json\"):\n",
    "    try:\n",
    "        with open(file_path, \"r\", encoding=\"utf-8-sig\") as file:\n",
    "            data = json.load(file)\n",
    "        print(f\"Successfully loaded {len(data['reviews'])} reviews.\")\n",
    "        print(f\"First review: {data['reviews'][0]}\")\n",
    "        return data\n",
    "    except FileNotFoundError:\n",
    "        print(f\"File '{file_path}' not found. Check the file path.\")\n",
    "    except json.JSONDecodeError as e:\n",
    "        print(f\"JSON decoding error: {e}\")\n",
    "    except Exception as e:\n",
    "        print(f\"An unexpected error occurred: {e}\")\n",
    "    return None\n",
    "\n",
    "# Load JSON data\n",
    "data = load_json_data()\n",
    "\n",
    "# Initialize OpenAI client\n",
    "client = OpenAI()\n",
    "\n",
    "# Initialize Pinecone (adjust as needed)\n",
    "pinecone = Pinecone(api_key=os.getenv('PINECONE_API_KEY'))\n",
    "\n",
    "# Print API keys to verify (be careful not to share this output)\n",
    "openai_key = os.getenv('OPENAI_API_KEY')\n",
    "pinecone_key = os.getenv('PINECONE_API_KEY')\n",
    "print(f\"Loaded OpenAI API key: {openai_key[:5]}...{openai_key[-5:] if openai_key else 'Not found'}\")\n",
    "print(f\"Loaded Pinecone API key: {pinecone_key[:5]}...{pinecone_key[-5:] if pinecone_key else 'Not found'}\")\n",
    "\n",
    "print(\"Setup complete!\")\n"
   ]
  },
  {
   "cell_type": "code",
   "execution_count": 3,
   "metadata": {},
   "outputs": [],
   "source": [
    "processed_data = []\n",
    "client = OpenAI()\n",
    "for review in data[\"reviews\"]:\n",
    "    response = client.embeddings.create(\n",
    "        input=review[\"review\"],\n",
    "        model=\"text-embedding-3-small\",\n",
    "    )\n",
    "    embedding=response.data[0].embedding  \n",
    "    processed_data.append({\n",
    "        \"values\": embedding,\n",
    "        \"id\": review[\"professor\"],\n",
    "        \"metadata\": {\n",
    "        \"review\": review[\"review\"],\n",
    "        \"subject\": review[\"subject\"],\n",
    "        \"stars\": review[\"stars\"],\n",
    "        }\n",
    "\n",
    "})\n"
   ]
  },
  {
   "cell_type": "code",
   "execution_count": null,
   "metadata": {},
   "outputs": [],
   "source": [
    "processed_data[0]"
   ]
  },
  {
   "cell_type": "code",
   "execution_count": null,
   "metadata": {},
   "outputs": [],
   "source": [
    "pc=Pinecone()\n",
    "index=pc.Index(\"rag\")\n",
    "index.upsert(\n",
    "    vectors=processed_data,\n",
    "    namespace='ns1'\n",
    ")"
   ]
  },
  {
   "cell_type": "code",
   "execution_count": null,
   "metadata": {},
   "outputs": [],
   "source": [
    "print(processed_data[:1])  # Print the first item to check\n"
   ]
  },
  {
   "cell_type": "code",
   "execution_count": null,
   "metadata": {},
   "outputs": [],
   "source": [
    "index.describe_index_stats()\n"
   ]
  }
 ],
 "metadata": {
  "kernelspec": {
   "display_name": "rag",
   "language": "python",
   "name": "python3"
  },
  "language_info": {
   "codemirror_mode": {
    "name": "ipython",
    "version": 3
   },
   "file_extension": ".py",
   "mimetype": "text/x-python",
   "name": "python",
   "nbconvert_exporter": "python",
   "pygments_lexer": "ipython3",
   "version": "3.10.14"
  }
 },
 "nbformat": 4,
 "nbformat_minor": 2
}
